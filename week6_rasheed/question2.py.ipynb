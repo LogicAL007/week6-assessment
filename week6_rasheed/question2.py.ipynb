{
 "cells": [
  {
   "cell_type": "markdown",
   "id": "54bedb4d",
   "metadata": {},
   "source": [
    "## Question 2: The letter e is said to be the most frequent letter in the English language. Count and print how many times this letter appears in the new national anthem."
   ]
  },
  {
   "cell_type": "code",
   "execution_count": 1,
   "id": "18cb25ec",
   "metadata": {},
   "outputs": [
    {
     "name": "stdout",
     "output_type": "stream",
     "text": [
      "The letter 'e' appears 42 times in the national anthem.\n"
     ]
    }
   ],
   "source": [
    "# National anthem text\n",
    "national_anthem = \"\"\"\n",
    "Nigeria we hail thee,\n",
    "\n",
    "Our own dear native land,\n",
    "\n",
    "Though tribe and tongue may differ,\n",
    "\n",
    "In brotherhood, we stand,\n",
    "\n",
    "Nigerians all, and proud to serve\n",
    "\n",
    "Our sovereign Motherland.\n",
    "\n",
    "Our flag shall be a symbol\n",
    "\n",
    "That truth and justice reign,\n",
    "\n",
    "In peace or battle honour’d,\n",
    "\n",
    "And this we count as gain,\n",
    "\n",
    "To hand on to our children\n",
    "\n",
    "A banner without stain.\n",
    "\n",
    "O God of all creation,\n",
    "\n",
    "Grant this our one request,\n",
    "\n",
    "Help us to build a nation\n",
    "\n",
    "Where no man is oppressed,\n",
    "\n",
    "And so with peace and plenty\n",
    "\n",
    "Nigeria may be blessed.\n",
    "\"\"\"\n",
    "\n",
    "# Count the number of 'e' characters\n",
    "e_count = national_anthem.count('e')\n",
    "\n",
    "# Print the count\n",
    "print(f\"The letter 'e' appears {e_count} times in the national anthem.\")"
   ]
  },
  {
   "cell_type": "code",
   "execution_count": null,
   "id": "895cbbc3",
   "metadata": {},
   "outputs": [],
   "source": []
  }
 ],
 "metadata": {
  "kernelspec": {
   "display_name": "Python 3 (ipykernel)",
   "language": "python",
   "name": "python3"
  },
  "language_info": {
   "codemirror_mode": {
    "name": "ipython",
    "version": 3
   },
   "file_extension": ".py",
   "mimetype": "text/x-python",
   "name": "python",
   "nbconvert_exporter": "python",
   "pygments_lexer": "ipython3",
   "version": "3.11.5"
  }
 },
 "nbformat": 4,
 "nbformat_minor": 5
}

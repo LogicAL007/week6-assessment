{
 "cells": [
  {
   "cell_type": "markdown",
   "id": "d92256e6",
   "metadata": {},
   "source": [
    "## Question 7: Write a program to print the sum of the first 10 natural numbers."
   ]
  },
  {
   "cell_type": "code",
   "execution_count": 1,
   "id": "af43b588",
   "metadata": {},
   "outputs": [
    {
     "name": "stdout",
     "output_type": "stream",
     "text": [
      "The sum of the first 10 natural numbers is: 55\n"
     ]
    }
   ],
   "source": [
    "# Initialize the sum to 0\n",
    "sum_of_numbers = 0\n",
    "\n",
    "# Iterate through the first 10 natural numbers\n",
    "for i in range(1, 11):\n",
    "    sum_of_numbers += i\n",
    "\n",
    "# Print the sum\n",
    "print(f\"The sum of the first 10 natural numbers is: {sum_of_numbers}\")"
   ]
  },
  {
   "cell_type": "code",
   "execution_count": null,
   "id": "d90fb6e8",
   "metadata": {},
   "outputs": [],
   "source": []
  }
 ],
 "metadata": {
  "kernelspec": {
   "display_name": "Python 3 (ipykernel)",
   "language": "python",
   "name": "python3"
  },
  "language_info": {
   "codemirror_mode": {
    "name": "ipython",
    "version": 3
   },
   "file_extension": ".py",
   "mimetype": "text/x-python",
   "name": "python",
   "nbconvert_exporter": "python",
   "pygments_lexer": "ipython3",
   "version": "3.11.5"
  }
 },
 "nbformat": 4,
 "nbformat_minor": 5
}

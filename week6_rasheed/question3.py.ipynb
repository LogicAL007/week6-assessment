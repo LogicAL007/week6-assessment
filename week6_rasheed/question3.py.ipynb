{
 "cells": [
  {
   "cell_type": "markdown",
   "id": "94360ad9",
   "metadata": {},
   "source": [
    "## Question 3: Write a program that asks for a positive integer and prints all of its divisors, one by one, on separate lines in ascending order. A divisor is a number that divides a particular number with no remainder. For example, the divisors of 4 are 1, 2, and 4. To check if a is a divisor of b, you can use the modulo operator %. a % b returns the remainder of dividing a by b. For example, 9 % 2 is 1 because 9 = (4 * 2) + 1, and 9 % 3 is 0 because 9 divides into 3 with no remainder. If a % b == 0, then b is a divisor of a."
   ]
  },
  {
   "cell_type": "code",
   "execution_count": 1,
   "id": "88d79c07",
   "metadata": {},
   "outputs": [
    {
     "name": "stdout",
     "output_type": "stream",
     "text": [
      "Please enter a positive integer: 98\n",
      "The divisors of 98 are:\n",
      "1\n",
      "2\n",
      "7\n",
      "14\n",
      "49\n",
      "98\n"
     ]
    }
   ],
   "source": [
    "# Ask the user for a positive integer\n",
    "number = int(input(\"Please enter a positive integer: \"))\n",
    "\n",
    "# Check if the number is positive\n",
    "if number <= 0:\n",
    "    print(\"Please enter a positive integer.\")\n",
    "else:\n",
    "    # Find and print all divisors of the number\n",
    "    print(f\"The divisors of {number} are:\")\n",
    "    for i in range(1, number + 1):\n",
    "        if number % i == 0:\n",
    "            print(i)"
   ]
  },
  {
   "cell_type": "code",
   "execution_count": null,
   "id": "c2908e8b",
   "metadata": {},
   "outputs": [],
   "source": []
  }
 ],
 "metadata": {
  "kernelspec": {
   "display_name": "Python 3 (ipykernel)",
   "language": "python",
   "name": "python3"
  },
  "language_info": {
   "codemirror_mode": {
    "name": "ipython",
    "version": 3
   },
   "file_extension": ".py",
   "mimetype": "text/x-python",
   "name": "python",
   "nbconvert_exporter": "python",
   "pygments_lexer": "ipython3",
   "version": "3.11.5"
  }
 },
 "nbformat": 4,
 "nbformat_minor": 5
}

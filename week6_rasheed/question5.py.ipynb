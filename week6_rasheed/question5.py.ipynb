{
 "cells": [
  {
   "cell_type": "markdown",
   "id": "82a76487",
   "metadata": {},
   "source": [
    "## Question 5: Write a function that accepts the age of 4 people and displays the oldest"
   ]
  },
  {
   "cell_type": "code",
   "execution_count": 1,
   "id": "9327068e",
   "metadata": {},
   "outputs": [],
   "source": [
    "def find_oldest(age1, age2, age3, age4):\n",
    "    # Create a list of the ages\n",
    "    ages = [age1, age2, age3, age4]\n",
    "    \n",
    "    # Find the maximum age\n",
    "    oldest_age = max(ages)\n",
    "    \n",
    "    # Print the oldest age\n",
    "    print(f\"The oldest age is: {oldest_age}\")"
   ]
  },
  {
   "cell_type": "code",
   "execution_count": 2,
   "id": "f6676299",
   "metadata": {},
   "outputs": [
    {
     "name": "stdout",
     "output_type": "stream",
     "text": [
      "The oldest age is: 31\n"
     ]
    }
   ],
   "source": [
    "find_oldest(22, 25, 31, 20)"
   ]
  },
  {
   "cell_type": "code",
   "execution_count": null,
   "id": "8884dc0c",
   "metadata": {},
   "outputs": [],
   "source": []
  }
 ],
 "metadata": {
  "kernelspec": {
   "display_name": "Python 3 (ipykernel)",
   "language": "python",
   "name": "python3"
  },
  "language_info": {
   "codemirror_mode": {
    "name": "ipython",
    "version": 3
   },
   "file_extension": ".py",
   "mimetype": "text/x-python",
   "name": "python",
   "nbconvert_exporter": "python",
   "pygments_lexer": "ipython3",
   "version": "3.11.5"
  }
 },
 "nbformat": 4,
 "nbformat_minor": 5
}

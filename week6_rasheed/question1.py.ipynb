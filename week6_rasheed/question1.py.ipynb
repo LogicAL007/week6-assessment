{
 "cells": [
  {
   "cell_type": "markdown",
   "id": "73c4b433",
   "metadata": {},
   "source": [
    "## Question 1: Write a program that will ask the user for their height in centimeters. Use the input() built-in function to do this. If the height is more than 185 centimeters, print the following line of code: \"You are very Tall\""
   ]
  },
  {
   "cell_type": "code",
   "execution_count": 1,
   "id": "b6adb9d6",
   "metadata": {},
   "outputs": [
    {
     "name": "stdout",
     "output_type": "stream",
     "text": [
      "Please enter your height in centimeters: 250\n",
      "You are very Tall\n"
     ]
    }
   ],
   "source": [
    "# Ask the user for their height in centimeters\n",
    "height = int(input(\"Please enter your height in centimeters: \"))\n",
    "\n",
    "# Check if the height is more than 185 centimeters\n",
    "if height > 185:\n",
    "    print(\"You are very Tall\")"
   ]
  },
  {
   "cell_type": "code",
   "execution_count": null,
   "id": "46076320",
   "metadata": {},
   "outputs": [],
   "source": []
  }
 ],
 "metadata": {
  "kernelspec": {
   "display_name": "Python 3 (ipykernel)",
   "language": "python",
   "name": "python3"
  },
  "language_info": {
   "codemirror_mode": {
    "name": "ipython",
    "version": 3
   },
   "file_extension": ".py",
   "mimetype": "text/x-python",
   "name": "python",
   "nbconvert_exporter": "python",
   "pygments_lexer": "ipython3",
   "version": "3.11.5"
  }
 },
 "nbformat": 4,
 "nbformat_minor": 5
}

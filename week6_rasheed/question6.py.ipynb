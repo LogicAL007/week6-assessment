{
 "cells": [
  {
   "cell_type": "markdown",
   "id": "8abd5ba3",
   "metadata": {},
   "source": [
    "## Question 6: Write a function that accepts the age of 4 people and displays the youngest."
   ]
  },
  {
   "cell_type": "code",
   "execution_count": 1,
   "id": "5f75ef45",
   "metadata": {},
   "outputs": [],
   "source": [
    "def find_youngest(age1, age2, age3, age4):\n",
    "    # Create a list of the ages\n",
    "    ages = [age1, age2, age3, age4]\n",
    "    \n",
    "    # Find the maximum age\n",
    "    youngest_age = min(ages)\n",
    "    \n",
    "    # Print the oldest age\n",
    "    print(f\"The youngest age is: {youngest_age}\")"
   ]
  },
  {
   "cell_type": "code",
   "execution_count": 2,
   "id": "35ec544e",
   "metadata": {},
   "outputs": [
    {
     "name": "stdout",
     "output_type": "stream",
     "text": [
      "The youngest age is: 20\n"
     ]
    }
   ],
   "source": [
    "find_youngest(22, 25, 31, 20)"
   ]
  },
  {
   "cell_type": "code",
   "execution_count": null,
   "id": "7648d7e6",
   "metadata": {},
   "outputs": [],
   "source": []
  }
 ],
 "metadata": {
  "kernelspec": {
   "display_name": "Python 3 (ipykernel)",
   "language": "python",
   "name": "python3"
  },
  "language_info": {
   "codemirror_mode": {
    "name": "ipython",
    "version": 3
   },
   "file_extension": ".py",
   "mimetype": "text/x-python",
   "name": "python",
   "nbconvert_exporter": "python",
   "pygments_lexer": "ipython3",
   "version": "3.11.5"
  }
 },
 "nbformat": 4,
 "nbformat_minor": 5
}
